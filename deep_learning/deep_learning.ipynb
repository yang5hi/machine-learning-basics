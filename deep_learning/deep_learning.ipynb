{
 "cells": [
  {
   "cell_type": "raw",
   "metadata": {},
   "source": [
    "# Update sklearn to prevent version mismatches\n",
    "!pip install sklearn --upgrade"
   ]
  },
  {
   "cell_type": "raw",
   "metadata": {},
   "source": [
    "# install joblib. This will be used to save your model. \n",
    "# Restart your kernel after installing \n",
    "!pip install joblib"
   ]
  },
  {
   "cell_type": "code",
   "execution_count": 1,
   "metadata": {},
   "outputs": [],
   "source": [
    "import pandas as pd"
   ]
  },
  {
   "cell_type": "markdown",
   "metadata": {},
   "source": [
    "# Read the CSV and Perform Basic Data Cleaning"
   ]
  },
  {
   "cell_type": "code",
   "execution_count": 2,
   "metadata": {},
   "outputs": [
    {
     "data": {
      "text/html": [
       "<div>\n",
       "<style scoped>\n",
       "    .dataframe tbody tr th:only-of-type {\n",
       "        vertical-align: middle;\n",
       "    }\n",
       "\n",
       "    .dataframe tbody tr th {\n",
       "        vertical-align: top;\n",
       "    }\n",
       "\n",
       "    .dataframe thead th {\n",
       "        text-align: right;\n",
       "    }\n",
       "</style>\n",
       "<table border=\"1\" class=\"dataframe\">\n",
       "  <thead>\n",
       "    <tr style=\"text-align: right;\">\n",
       "      <th></th>\n",
       "      <th>koi_disposition</th>\n",
       "      <th>koi_fpflag_nt</th>\n",
       "      <th>koi_fpflag_ss</th>\n",
       "      <th>koi_fpflag_co</th>\n",
       "      <th>koi_fpflag_ec</th>\n",
       "      <th>koi_period</th>\n",
       "      <th>koi_period_err1</th>\n",
       "      <th>koi_period_err2</th>\n",
       "      <th>koi_time0bk</th>\n",
       "      <th>koi_time0bk_err1</th>\n",
       "      <th>...</th>\n",
       "      <th>koi_steff_err2</th>\n",
       "      <th>koi_slogg</th>\n",
       "      <th>koi_slogg_err1</th>\n",
       "      <th>koi_slogg_err2</th>\n",
       "      <th>koi_srad</th>\n",
       "      <th>koi_srad_err1</th>\n",
       "      <th>koi_srad_err2</th>\n",
       "      <th>ra</th>\n",
       "      <th>dec</th>\n",
       "      <th>koi_kepmag</th>\n",
       "    </tr>\n",
       "  </thead>\n",
       "  <tbody>\n",
       "    <tr>\n",
       "      <th>0</th>\n",
       "      <td>CONFIRMED</td>\n",
       "      <td>0</td>\n",
       "      <td>0</td>\n",
       "      <td>0</td>\n",
       "      <td>0</td>\n",
       "      <td>54.418383</td>\n",
       "      <td>2.479000e-04</td>\n",
       "      <td>-2.479000e-04</td>\n",
       "      <td>162.513840</td>\n",
       "      <td>0.003520</td>\n",
       "      <td>...</td>\n",
       "      <td>-81</td>\n",
       "      <td>4.467</td>\n",
       "      <td>0.064</td>\n",
       "      <td>-0.096</td>\n",
       "      <td>0.927</td>\n",
       "      <td>0.105</td>\n",
       "      <td>-0.061</td>\n",
       "      <td>291.93423</td>\n",
       "      <td>48.141651</td>\n",
       "      <td>15.347</td>\n",
       "    </tr>\n",
       "    <tr>\n",
       "      <th>1</th>\n",
       "      <td>FALSE POSITIVE</td>\n",
       "      <td>0</td>\n",
       "      <td>1</td>\n",
       "      <td>0</td>\n",
       "      <td>0</td>\n",
       "      <td>19.899140</td>\n",
       "      <td>1.490000e-05</td>\n",
       "      <td>-1.490000e-05</td>\n",
       "      <td>175.850252</td>\n",
       "      <td>0.000581</td>\n",
       "      <td>...</td>\n",
       "      <td>-176</td>\n",
       "      <td>4.544</td>\n",
       "      <td>0.044</td>\n",
       "      <td>-0.176</td>\n",
       "      <td>0.868</td>\n",
       "      <td>0.233</td>\n",
       "      <td>-0.078</td>\n",
       "      <td>297.00482</td>\n",
       "      <td>48.134129</td>\n",
       "      <td>15.436</td>\n",
       "    </tr>\n",
       "    <tr>\n",
       "      <th>2</th>\n",
       "      <td>FALSE POSITIVE</td>\n",
       "      <td>0</td>\n",
       "      <td>1</td>\n",
       "      <td>0</td>\n",
       "      <td>0</td>\n",
       "      <td>1.736952</td>\n",
       "      <td>2.630000e-07</td>\n",
       "      <td>-2.630000e-07</td>\n",
       "      <td>170.307565</td>\n",
       "      <td>0.000115</td>\n",
       "      <td>...</td>\n",
       "      <td>-174</td>\n",
       "      <td>4.564</td>\n",
       "      <td>0.053</td>\n",
       "      <td>-0.168</td>\n",
       "      <td>0.791</td>\n",
       "      <td>0.201</td>\n",
       "      <td>-0.067</td>\n",
       "      <td>285.53461</td>\n",
       "      <td>48.285210</td>\n",
       "      <td>15.597</td>\n",
       "    </tr>\n",
       "    <tr>\n",
       "      <th>3</th>\n",
       "      <td>CONFIRMED</td>\n",
       "      <td>0</td>\n",
       "      <td>0</td>\n",
       "      <td>0</td>\n",
       "      <td>0</td>\n",
       "      <td>2.525592</td>\n",
       "      <td>3.760000e-06</td>\n",
       "      <td>-3.760000e-06</td>\n",
       "      <td>171.595550</td>\n",
       "      <td>0.001130</td>\n",
       "      <td>...</td>\n",
       "      <td>-211</td>\n",
       "      <td>4.438</td>\n",
       "      <td>0.070</td>\n",
       "      <td>-0.210</td>\n",
       "      <td>1.046</td>\n",
       "      <td>0.334</td>\n",
       "      <td>-0.133</td>\n",
       "      <td>288.75488</td>\n",
       "      <td>48.226200</td>\n",
       "      <td>15.509</td>\n",
       "    </tr>\n",
       "    <tr>\n",
       "      <th>4</th>\n",
       "      <td>CONFIRMED</td>\n",
       "      <td>0</td>\n",
       "      <td>0</td>\n",
       "      <td>0</td>\n",
       "      <td>0</td>\n",
       "      <td>4.134435</td>\n",
       "      <td>1.050000e-05</td>\n",
       "      <td>-1.050000e-05</td>\n",
       "      <td>172.979370</td>\n",
       "      <td>0.001900</td>\n",
       "      <td>...</td>\n",
       "      <td>-232</td>\n",
       "      <td>4.486</td>\n",
       "      <td>0.054</td>\n",
       "      <td>-0.229</td>\n",
       "      <td>0.972</td>\n",
       "      <td>0.315</td>\n",
       "      <td>-0.105</td>\n",
       "      <td>296.28613</td>\n",
       "      <td>48.224670</td>\n",
       "      <td>15.714</td>\n",
       "    </tr>\n",
       "  </tbody>\n",
       "</table>\n",
       "<p>5 rows × 41 columns</p>\n",
       "</div>"
      ],
      "text/plain": [
       "  koi_disposition  koi_fpflag_nt  koi_fpflag_ss  koi_fpflag_co  koi_fpflag_ec  \\\n",
       "0       CONFIRMED              0              0              0              0   \n",
       "1  FALSE POSITIVE              0              1              0              0   \n",
       "2  FALSE POSITIVE              0              1              0              0   \n",
       "3       CONFIRMED              0              0              0              0   \n",
       "4       CONFIRMED              0              0              0              0   \n",
       "\n",
       "   koi_period  koi_period_err1  koi_period_err2  koi_time0bk  \\\n",
       "0   54.418383     2.479000e-04    -2.479000e-04   162.513840   \n",
       "1   19.899140     1.490000e-05    -1.490000e-05   175.850252   \n",
       "2    1.736952     2.630000e-07    -2.630000e-07   170.307565   \n",
       "3    2.525592     3.760000e-06    -3.760000e-06   171.595550   \n",
       "4    4.134435     1.050000e-05    -1.050000e-05   172.979370   \n",
       "\n",
       "   koi_time0bk_err1  ...  koi_steff_err2  koi_slogg  koi_slogg_err1  \\\n",
       "0          0.003520  ...             -81      4.467           0.064   \n",
       "1          0.000581  ...            -176      4.544           0.044   \n",
       "2          0.000115  ...            -174      4.564           0.053   \n",
       "3          0.001130  ...            -211      4.438           0.070   \n",
       "4          0.001900  ...            -232      4.486           0.054   \n",
       "\n",
       "   koi_slogg_err2  koi_srad  koi_srad_err1  koi_srad_err2         ra  \\\n",
       "0          -0.096     0.927          0.105         -0.061  291.93423   \n",
       "1          -0.176     0.868          0.233         -0.078  297.00482   \n",
       "2          -0.168     0.791          0.201         -0.067  285.53461   \n",
       "3          -0.210     1.046          0.334         -0.133  288.75488   \n",
       "4          -0.229     0.972          0.315         -0.105  296.28613   \n",
       "\n",
       "         dec  koi_kepmag  \n",
       "0  48.141651      15.347  \n",
       "1  48.134129      15.436  \n",
       "2  48.285210      15.597  \n",
       "3  48.226200      15.509  \n",
       "4  48.224670      15.714  \n",
       "\n",
       "[5 rows x 41 columns]"
      ]
     },
     "execution_count": 2,
     "metadata": {},
     "output_type": "execute_result"
    }
   ],
   "source": [
    "df = pd.read_csv(\"../data/exoplanet_data.csv\")\n",
    "# Drop the null columns where all values are null\n",
    "df = df.dropna(axis='columns', how='all')\n",
    "# Drop the null rows\n",
    "df = df.dropna()\n",
    "df.head()"
   ]
  },
  {
   "cell_type": "code",
   "execution_count": 3,
   "metadata": {},
   "outputs": [
    {
     "data": {
      "text/html": [
       "<div>\n",
       "<style scoped>\n",
       "    .dataframe tbody tr th:only-of-type {\n",
       "        vertical-align: middle;\n",
       "    }\n",
       "\n",
       "    .dataframe tbody tr th {\n",
       "        vertical-align: top;\n",
       "    }\n",
       "\n",
       "    .dataframe thead th {\n",
       "        text-align: right;\n",
       "    }\n",
       "</style>\n",
       "<table border=\"1\" class=\"dataframe\">\n",
       "  <thead>\n",
       "    <tr style=\"text-align: right;\">\n",
       "      <th></th>\n",
       "      <th>koi_disposition</th>\n",
       "      <th>koi_fpflag_nt</th>\n",
       "      <th>koi_fpflag_ss</th>\n",
       "      <th>koi_fpflag_co</th>\n",
       "      <th>koi_fpflag_ec</th>\n",
       "      <th>koi_period</th>\n",
       "      <th>koi_period_err1</th>\n",
       "      <th>koi_period_err2</th>\n",
       "      <th>koi_time0bk</th>\n",
       "      <th>koi_time0bk_err1</th>\n",
       "      <th>...</th>\n",
       "      <th>koi_steff_err2</th>\n",
       "      <th>koi_slogg</th>\n",
       "      <th>koi_slogg_err1</th>\n",
       "      <th>koi_slogg_err2</th>\n",
       "      <th>koi_srad</th>\n",
       "      <th>koi_srad_err1</th>\n",
       "      <th>koi_srad_err2</th>\n",
       "      <th>ra</th>\n",
       "      <th>dec</th>\n",
       "      <th>koi_kepmag</th>\n",
       "    </tr>\n",
       "  </thead>\n",
       "  <tbody>\n",
       "    <tr>\n",
       "      <th>6986</th>\n",
       "      <td>FALSE POSITIVE</td>\n",
       "      <td>0</td>\n",
       "      <td>0</td>\n",
       "      <td>0</td>\n",
       "      <td>1</td>\n",
       "      <td>8.589871</td>\n",
       "      <td>1.846000e-04</td>\n",
       "      <td>-1.846000e-04</td>\n",
       "      <td>132.016100</td>\n",
       "      <td>0.01570</td>\n",
       "      <td>...</td>\n",
       "      <td>-152</td>\n",
       "      <td>4.296</td>\n",
       "      <td>0.231</td>\n",
       "      <td>-0.189</td>\n",
       "      <td>1.088</td>\n",
       "      <td>0.313</td>\n",
       "      <td>-0.228</td>\n",
       "      <td>298.74921</td>\n",
       "      <td>46.973351</td>\n",
       "      <td>14.478</td>\n",
       "    </tr>\n",
       "    <tr>\n",
       "      <th>6987</th>\n",
       "      <td>FALSE POSITIVE</td>\n",
       "      <td>0</td>\n",
       "      <td>1</td>\n",
       "      <td>1</td>\n",
       "      <td>0</td>\n",
       "      <td>0.527699</td>\n",
       "      <td>1.160000e-07</td>\n",
       "      <td>-1.160000e-07</td>\n",
       "      <td>131.705093</td>\n",
       "      <td>0.00017</td>\n",
       "      <td>...</td>\n",
       "      <td>-166</td>\n",
       "      <td>4.529</td>\n",
       "      <td>0.035</td>\n",
       "      <td>-0.196</td>\n",
       "      <td>0.903</td>\n",
       "      <td>0.237</td>\n",
       "      <td>-0.079</td>\n",
       "      <td>297.18875</td>\n",
       "      <td>47.093819</td>\n",
       "      <td>14.082</td>\n",
       "    </tr>\n",
       "    <tr>\n",
       "      <th>6988</th>\n",
       "      <td>CANDIDATE</td>\n",
       "      <td>0</td>\n",
       "      <td>0</td>\n",
       "      <td>0</td>\n",
       "      <td>0</td>\n",
       "      <td>1.739849</td>\n",
       "      <td>1.780000e-05</td>\n",
       "      <td>-1.780000e-05</td>\n",
       "      <td>133.001270</td>\n",
       "      <td>0.00769</td>\n",
       "      <td>...</td>\n",
       "      <td>-220</td>\n",
       "      <td>4.444</td>\n",
       "      <td>0.056</td>\n",
       "      <td>-0.224</td>\n",
       "      <td>1.031</td>\n",
       "      <td>0.341</td>\n",
       "      <td>-0.114</td>\n",
       "      <td>286.50937</td>\n",
       "      <td>47.163219</td>\n",
       "      <td>14.757</td>\n",
       "    </tr>\n",
       "    <tr>\n",
       "      <th>6989</th>\n",
       "      <td>FALSE POSITIVE</td>\n",
       "      <td>0</td>\n",
       "      <td>0</td>\n",
       "      <td>1</td>\n",
       "      <td>0</td>\n",
       "      <td>0.681402</td>\n",
       "      <td>2.430000e-06</td>\n",
       "      <td>-2.430000e-06</td>\n",
       "      <td>132.181750</td>\n",
       "      <td>0.00285</td>\n",
       "      <td>...</td>\n",
       "      <td>-236</td>\n",
       "      <td>4.447</td>\n",
       "      <td>0.056</td>\n",
       "      <td>-0.224</td>\n",
       "      <td>1.041</td>\n",
       "      <td>0.341</td>\n",
       "      <td>-0.114</td>\n",
       "      <td>294.16489</td>\n",
       "      <td>47.176281</td>\n",
       "      <td>15.385</td>\n",
       "    </tr>\n",
       "    <tr>\n",
       "      <th>6990</th>\n",
       "      <td>FALSE POSITIVE</td>\n",
       "      <td>0</td>\n",
       "      <td>0</td>\n",
       "      <td>1</td>\n",
       "      <td>1</td>\n",
       "      <td>4.856035</td>\n",
       "      <td>6.360000e-05</td>\n",
       "      <td>-6.360000e-05</td>\n",
       "      <td>135.993300</td>\n",
       "      <td>0.01080</td>\n",
       "      <td>...</td>\n",
       "      <td>-225</td>\n",
       "      <td>4.385</td>\n",
       "      <td>0.054</td>\n",
       "      <td>-0.216</td>\n",
       "      <td>1.193</td>\n",
       "      <td>0.410</td>\n",
       "      <td>-0.137</td>\n",
       "      <td>297.00977</td>\n",
       "      <td>47.121021</td>\n",
       "      <td>14.826</td>\n",
       "    </tr>\n",
       "  </tbody>\n",
       "</table>\n",
       "<p>5 rows × 41 columns</p>\n",
       "</div>"
      ],
      "text/plain": [
       "     koi_disposition  koi_fpflag_nt  koi_fpflag_ss  koi_fpflag_co  \\\n",
       "6986  FALSE POSITIVE              0              0              0   \n",
       "6987  FALSE POSITIVE              0              1              1   \n",
       "6988       CANDIDATE              0              0              0   \n",
       "6989  FALSE POSITIVE              0              0              1   \n",
       "6990  FALSE POSITIVE              0              0              1   \n",
       "\n",
       "      koi_fpflag_ec  koi_period  koi_period_err1  koi_period_err2  \\\n",
       "6986              1    8.589871     1.846000e-04    -1.846000e-04   \n",
       "6987              0    0.527699     1.160000e-07    -1.160000e-07   \n",
       "6988              0    1.739849     1.780000e-05    -1.780000e-05   \n",
       "6989              0    0.681402     2.430000e-06    -2.430000e-06   \n",
       "6990              1    4.856035     6.360000e-05    -6.360000e-05   \n",
       "\n",
       "      koi_time0bk  koi_time0bk_err1  ...  koi_steff_err2  koi_slogg  \\\n",
       "6986   132.016100           0.01570  ...            -152      4.296   \n",
       "6987   131.705093           0.00017  ...            -166      4.529   \n",
       "6988   133.001270           0.00769  ...            -220      4.444   \n",
       "6989   132.181750           0.00285  ...            -236      4.447   \n",
       "6990   135.993300           0.01080  ...            -225      4.385   \n",
       "\n",
       "      koi_slogg_err1  koi_slogg_err2  koi_srad  koi_srad_err1  koi_srad_err2  \\\n",
       "6986           0.231          -0.189     1.088          0.313         -0.228   \n",
       "6987           0.035          -0.196     0.903          0.237         -0.079   \n",
       "6988           0.056          -0.224     1.031          0.341         -0.114   \n",
       "6989           0.056          -0.224     1.041          0.341         -0.114   \n",
       "6990           0.054          -0.216     1.193          0.410         -0.137   \n",
       "\n",
       "             ra        dec  koi_kepmag  \n",
       "6986  298.74921  46.973351      14.478  \n",
       "6987  297.18875  47.093819      14.082  \n",
       "6988  286.50937  47.163219      14.757  \n",
       "6989  294.16489  47.176281      15.385  \n",
       "6990  297.00977  47.121021      14.826  \n",
       "\n",
       "[5 rows x 41 columns]"
      ]
     },
     "execution_count": 3,
     "metadata": {},
     "output_type": "execute_result"
    }
   ],
   "source": [
    "df.tail()"
   ]
  },
  {
   "cell_type": "code",
   "execution_count": 4,
   "metadata": {},
   "outputs": [
    {
     "name": "stdout",
     "output_type": "stream",
     "text": [
      "<class 'pandas.core.frame.DataFrame'>\n",
      "Int64Index: 6991 entries, 0 to 6990\n",
      "Data columns (total 41 columns):\n",
      " #   Column             Non-Null Count  Dtype  \n",
      "---  ------             --------------  -----  \n",
      " 0   koi_disposition    6991 non-null   object \n",
      " 1   koi_fpflag_nt      6991 non-null   int64  \n",
      " 2   koi_fpflag_ss      6991 non-null   int64  \n",
      " 3   koi_fpflag_co      6991 non-null   int64  \n",
      " 4   koi_fpflag_ec      6991 non-null   int64  \n",
      " 5   koi_period         6991 non-null   float64\n",
      " 6   koi_period_err1    6991 non-null   float64\n",
      " 7   koi_period_err2    6991 non-null   float64\n",
      " 8   koi_time0bk        6991 non-null   float64\n",
      " 9   koi_time0bk_err1   6991 non-null   float64\n",
      " 10  koi_time0bk_err2   6991 non-null   float64\n",
      " 11  koi_impact         6991 non-null   float64\n",
      " 12  koi_impact_err1    6991 non-null   float64\n",
      " 13  koi_impact_err2    6991 non-null   float64\n",
      " 14  koi_duration       6991 non-null   float64\n",
      " 15  koi_duration_err1  6991 non-null   float64\n",
      " 16  koi_duration_err2  6991 non-null   float64\n",
      " 17  koi_depth          6991 non-null   float64\n",
      " 18  koi_depth_err1     6991 non-null   float64\n",
      " 19  koi_depth_err2     6991 non-null   float64\n",
      " 20  koi_prad           6991 non-null   float64\n",
      " 21  koi_prad_err1      6991 non-null   float64\n",
      " 22  koi_prad_err2      6991 non-null   float64\n",
      " 23  koi_teq            6991 non-null   int64  \n",
      " 24  koi_insol          6991 non-null   float64\n",
      " 25  koi_insol_err1     6991 non-null   float64\n",
      " 26  koi_insol_err2     6991 non-null   float64\n",
      " 27  koi_model_snr      6991 non-null   float64\n",
      " 28  koi_tce_plnt_num   6991 non-null   int64  \n",
      " 29  koi_steff          6991 non-null   int64  \n",
      " 30  koi_steff_err1     6991 non-null   int64  \n",
      " 31  koi_steff_err2     6991 non-null   int64  \n",
      " 32  koi_slogg          6991 non-null   float64\n",
      " 33  koi_slogg_err1     6991 non-null   float64\n",
      " 34  koi_slogg_err2     6991 non-null   float64\n",
      " 35  koi_srad           6991 non-null   float64\n",
      " 36  koi_srad_err1      6991 non-null   float64\n",
      " 37  koi_srad_err2      6991 non-null   float64\n",
      " 38  ra                 6991 non-null   float64\n",
      " 39  dec                6991 non-null   float64\n",
      " 40  koi_kepmag         6991 non-null   float64\n",
      "dtypes: float64(31), int64(9), object(1)\n",
      "memory usage: 2.2+ MB\n"
     ]
    }
   ],
   "source": [
    "df.info()"
   ]
  },
  {
   "cell_type": "markdown",
   "metadata": {},
   "source": [
    "# Select your features (columns)"
   ]
  },
  {
   "cell_type": "code",
   "execution_count": 5,
   "metadata": {},
   "outputs": [],
   "source": [
    "# Set features. This will also be used as x values.\n",
    "target = df[\"koi_disposition\"]\n",
    "target_names = ['CANDIDATE','CONFIRMED','FALSE POSITIVE']\n",
    "features = df.drop(\"koi_disposition\", axis=1)\n",
    "feature_names=features.columns"
   ]
  },
  {
   "cell_type": "markdown",
   "metadata": {},
   "source": [
    "# Create a Train Test Split\n",
    "\n",
    "Use `koi_disposition` for the y values"
   ]
  },
  {
   "cell_type": "code",
   "execution_count": 6,
   "metadata": {},
   "outputs": [
    {
     "data": {
      "text/plain": [
       "array([1, 2, 2, ..., 0, 2, 2])"
      ]
     },
     "execution_count": 6,
     "metadata": {},
     "output_type": "execute_result"
    }
   ],
   "source": [
    "from sklearn.preprocessing import LabelEncoder\n",
    "from tensorflow.keras.utils import to_categorical\n",
    "\n",
    "# Step 1: Label-encode data set\n",
    "label_encoder = LabelEncoder()\n",
    "label_encoder.fit(target)\n",
    "encoded_y = label_encoder.transform(target)\n",
    "encoded_y"
   ]
  },
  {
   "cell_type": "code",
   "execution_count": 7,
   "metadata": {},
   "outputs": [
    {
     "data": {
      "text/plain": [
       "array([[0., 1., 0.],\n",
       "       [0., 0., 1.],\n",
       "       [0., 0., 1.],\n",
       "       ...,\n",
       "       [1., 0., 0.],\n",
       "       [0., 0., 1.],\n",
       "       [0., 0., 1.]], dtype=float32)"
      ]
     },
     "execution_count": 7,
     "metadata": {},
     "output_type": "execute_result"
    }
   ],
   "source": [
    "# Step 2: One-hot encoding\n",
    "one_hot_y = to_categorical(encoded_y)\n",
    "one_hot_y"
   ]
  },
  {
   "cell_type": "code",
   "execution_count": 8,
   "metadata": {},
   "outputs": [
    {
     "data": {
      "text/plain": [
       "((5243, 40), (5243, 3))"
      ]
     },
     "execution_count": 8,
     "metadata": {},
     "output_type": "execute_result"
    }
   ],
   "source": [
    "from sklearn.model_selection import train_test_split\n",
    "# X_train, X_test, y_train, y_test = train_test_split(features, encoded_y, random_state=42)\n",
    "X_train, X_test, y_train, y_test = train_test_split(features, one_hot_y, random_state=42)\n",
    "X_train.shape, y_train.shape"
   ]
  },
  {
   "cell_type": "markdown",
   "metadata": {},
   "source": [
    "# Pre-processing\n",
    "\n",
    "Scale the data using the MinMaxScaler and perform some feature selection"
   ]
  },
  {
   "cell_type": "code",
   "execution_count": 9,
   "metadata": {},
   "outputs": [],
   "source": [
    "# Scale the data\n",
    "from sklearn.preprocessing import MinMaxScaler\n",
    "X_scaler = MinMaxScaler().fit(X_train)\n",
    "X_train_scaled = X_scaler.transform(X_train)\n",
    "X_test_scaled = X_scaler.transform(X_test)"
   ]
  },
  {
   "cell_type": "code",
   "execution_count": 10,
   "metadata": {},
   "outputs": [
    {
     "data": {
      "text/plain": [
       "1.0"
      ]
     },
     "execution_count": 10,
     "metadata": {},
     "output_type": "execute_result"
    }
   ],
   "source": [
    "from sklearn.ensemble import RandomForestClassifier\n",
    " # Create a random forest classifier\n",
    "rf = RandomForestClassifier(n_estimators=200)\n",
    "rf = rf.fit(X_train_scaled, y_train)\n",
    "rf.score(X_train_scaled, y_train)"
   ]
  },
  {
   "cell_type": "code",
   "execution_count": 11,
   "metadata": {},
   "outputs": [
    {
     "data": {
      "text/plain": [
       "['koi_fpflag_co',\n",
       " 'koi_fpflag_nt',\n",
       " 'koi_fpflag_ss',\n",
       " 'koi_model_snr',\n",
       " 'koi_prad',\n",
       " 'koi_duration_err2',\n",
       " 'koi_fpflag_ec',\n",
       " 'koi_prad_err2',\n",
       " 'koi_steff_err1',\n",
       " 'koi_duration_err1']"
      ]
     },
     "execution_count": 11,
     "metadata": {},
     "output_type": "execute_result"
    }
   ],
   "source": [
    "importances = rf.feature_importances_\n",
    "rf_feature_importance=sorted(zip(importances, feature_names), reverse=True)\n",
    "rf_ranked_feature=[a[1] for a in rf_feature_importance]\n",
    "rf_ranked_feature[:10]"
   ]
  },
  {
   "cell_type": "code",
   "execution_count": 12,
   "metadata": {},
   "outputs": [
    {
     "data": {
      "text/plain": [
       "array([12,  3,  7,  8,  5,  6, 11,  0, 27, 28], dtype=int64)"
      ]
     },
     "execution_count": 12,
     "metadata": {},
     "output_type": "execute_result"
    }
   ],
   "source": [
    "import numpy as np\n",
    "rf_ranked_list=np.argsort(np.flip(importances))\n",
    "rf_ranked_list[:10]\n",
    "# X_train_scaled=X_train_scaled[:,rf_ranked_list[:10]]"
   ]
  },
  {
   "cell_type": "code",
   "execution_count": 13,
   "metadata": {},
   "outputs": [
    {
     "data": {
      "text/plain": [
       "1.0"
      ]
     },
     "execution_count": 13,
     "metadata": {},
     "output_type": "execute_result"
    }
   ],
   "source": [
    "from sklearn import tree\n",
    "clf = tree.DecisionTreeClassifier()\n",
    "clf = clf.fit(X_train_scaled, y_train)\n",
    "clf.score(X_train_scaled, y_train)"
   ]
  },
  {
   "cell_type": "code",
   "execution_count": 14,
   "metadata": {},
   "outputs": [
    {
     "data": {
      "text/plain": [
       "['koi_fpflag_nt',\n",
       " 'koi_fpflag_co',\n",
       " 'koi_fpflag_ss',\n",
       " 'koi_model_snr',\n",
       " 'koi_fpflag_ec',\n",
       " 'koi_impact',\n",
       " 'dec',\n",
       " 'koi_time0bk',\n",
       " 'koi_prad',\n",
       " 'koi_srad_err1']"
      ]
     },
     "execution_count": 14,
     "metadata": {},
     "output_type": "execute_result"
    }
   ],
   "source": [
    "importances = clf.feature_importances_\n",
    "clf_feature_importance=sorted(zip(importances, feature_names), reverse=True)\n",
    "clf_ranked_feature=[a[1] for a in clf_feature_importance]\n",
    "clf_ranked_feature[:10]"
   ]
  },
  {
   "cell_type": "markdown",
   "metadata": {},
   "source": [
    "# Train the Model\n",
    "\n"
   ]
  },
  {
   "cell_type": "code",
   "execution_count": 15,
   "metadata": {},
   "outputs": [
    {
     "name": "stdout",
     "output_type": "stream",
     "text": [
      "Epoch 1/100\n",
      "164/164 - 0s - loss: 0.5583 - accuracy: 0.7318\n",
      "Epoch 2/100\n",
      "164/164 - 0s - loss: 0.3667 - accuracy: 0.8184\n",
      "Epoch 3/100\n",
      "164/164 - 0s - loss: 0.3490 - accuracy: 0.8266\n",
      "Epoch 4/100\n",
      "164/164 - 0s - loss: 0.3417 - accuracy: 0.8287\n",
      "Epoch 5/100\n",
      "164/164 - 0s - loss: 0.3343 - accuracy: 0.8323\n",
      "Epoch 6/100\n",
      "164/164 - 0s - loss: 0.3283 - accuracy: 0.8407\n",
      "Epoch 7/100\n",
      "164/164 - 0s - loss: 0.3188 - accuracy: 0.8518\n",
      "Epoch 8/100\n",
      "164/164 - 0s - loss: 0.3197 - accuracy: 0.8510\n",
      "Epoch 9/100\n",
      "164/164 - 0s - loss: 0.3132 - accuracy: 0.8560\n",
      "Epoch 10/100\n",
      "164/164 - 0s - loss: 0.3144 - accuracy: 0.8514\n",
      "Epoch 11/100\n",
      "164/164 - 0s - loss: 0.3060 - accuracy: 0.8552\n",
      "Epoch 12/100\n",
      "164/164 - 0s - loss: 0.3047 - accuracy: 0.8564\n",
      "Epoch 13/100\n",
      "164/164 - 0s - loss: 0.3006 - accuracy: 0.8621\n",
      "Epoch 14/100\n",
      "164/164 - 0s - loss: 0.3018 - accuracy: 0.8611\n",
      "Epoch 15/100\n",
      "164/164 - 0s - loss: 0.2905 - accuracy: 0.8659\n",
      "Epoch 16/100\n",
      "164/164 - 0s - loss: 0.2938 - accuracy: 0.8625\n",
      "Epoch 17/100\n",
      "164/164 - 0s - loss: 0.2973 - accuracy: 0.8644\n",
      "Epoch 18/100\n",
      "164/164 - 0s - loss: 0.2921 - accuracy: 0.8673\n",
      "Epoch 19/100\n",
      "164/164 - 0s - loss: 0.2845 - accuracy: 0.8796\n",
      "Epoch 20/100\n",
      "164/164 - 0s - loss: 0.2864 - accuracy: 0.8699\n",
      "Epoch 21/100\n",
      "164/164 - 0s - loss: 0.2782 - accuracy: 0.8779\n",
      "Epoch 22/100\n",
      "164/164 - 0s - loss: 0.2804 - accuracy: 0.8760\n",
      "Epoch 23/100\n",
      "164/164 - 0s - loss: 0.2781 - accuracy: 0.8779\n",
      "Epoch 24/100\n",
      "164/164 - 0s - loss: 0.2857 - accuracy: 0.8701\n",
      "Epoch 25/100\n",
      "164/164 - 0s - loss: 0.2754 - accuracy: 0.8810\n",
      "Epoch 26/100\n",
      "164/164 - 0s - loss: 0.2746 - accuracy: 0.8798\n",
      "Epoch 27/100\n",
      "164/164 - 0s - loss: 0.2697 - accuracy: 0.8814\n",
      "Epoch 28/100\n",
      "164/164 - 0s - loss: 0.2682 - accuracy: 0.8835\n",
      "Epoch 29/100\n",
      "164/164 - 0s - loss: 0.2693 - accuracy: 0.8793\n",
      "Epoch 30/100\n",
      "164/164 - 0s - loss: 0.2693 - accuracy: 0.8837\n",
      "Epoch 31/100\n",
      "164/164 - 0s - loss: 0.2653 - accuracy: 0.8840\n",
      "Epoch 32/100\n",
      "164/164 - 0s - loss: 0.2680 - accuracy: 0.8777\n",
      "Epoch 33/100\n",
      "164/164 - 0s - loss: 0.2592 - accuracy: 0.8852\n",
      "Epoch 34/100\n",
      "164/164 - 0s - loss: 0.2590 - accuracy: 0.8835\n",
      "Epoch 35/100\n",
      "164/164 - 0s - loss: 0.2617 - accuracy: 0.8808\n",
      "Epoch 36/100\n",
      "164/164 - 0s - loss: 0.2692 - accuracy: 0.8796\n",
      "Epoch 37/100\n",
      "164/164 - 0s - loss: 0.2611 - accuracy: 0.8835\n",
      "Epoch 38/100\n",
      "164/164 - 0s - loss: 0.2550 - accuracy: 0.8890\n",
      "Epoch 39/100\n",
      "164/164 - 0s - loss: 0.2545 - accuracy: 0.8879\n",
      "Epoch 40/100\n",
      "164/164 - 0s - loss: 0.2544 - accuracy: 0.8898\n",
      "Epoch 41/100\n",
      "164/164 - 0s - loss: 0.2538 - accuracy: 0.8909\n",
      "Epoch 42/100\n",
      "164/164 - 0s - loss: 0.2588 - accuracy: 0.8869\n",
      "Epoch 43/100\n",
      "164/164 - 0s - loss: 0.2507 - accuracy: 0.8894\n",
      "Epoch 44/100\n",
      "164/164 - 0s - loss: 0.2486 - accuracy: 0.8922\n",
      "Epoch 45/100\n",
      "164/164 - 0s - loss: 0.2531 - accuracy: 0.8882\n",
      "Epoch 46/100\n",
      "164/164 - 0s - loss: 0.2492 - accuracy: 0.8907\n",
      "Epoch 47/100\n",
      "164/164 - 0s - loss: 0.2485 - accuracy: 0.8909\n",
      "Epoch 48/100\n",
      "164/164 - 0s - loss: 0.2510 - accuracy: 0.8882\n",
      "Epoch 49/100\n",
      "164/164 - 0s - loss: 0.2480 - accuracy: 0.8894\n",
      "Epoch 50/100\n",
      "164/164 - 0s - loss: 0.2438 - accuracy: 0.8915\n",
      "Epoch 51/100\n",
      "164/164 - 0s - loss: 0.2435 - accuracy: 0.8911\n",
      "Epoch 52/100\n",
      "164/164 - 0s - loss: 0.2413 - accuracy: 0.8985\n",
      "Epoch 53/100\n",
      "164/164 - 0s - loss: 0.2418 - accuracy: 0.8922\n",
      "Epoch 54/100\n",
      "164/164 - 0s - loss: 0.2460 - accuracy: 0.8899\n",
      "Epoch 55/100\n",
      "164/164 - 0s - loss: 0.2455 - accuracy: 0.8892\n",
      "Epoch 56/100\n",
      "164/164 - 0s - loss: 0.2443 - accuracy: 0.8901\n",
      "Epoch 57/100\n",
      "164/164 - 0s - loss: 0.2507 - accuracy: 0.8890\n",
      "Epoch 58/100\n",
      "164/164 - 0s - loss: 0.2418 - accuracy: 0.8903\n",
      "Epoch 59/100\n",
      "164/164 - 0s - loss: 0.2392 - accuracy: 0.8936\n",
      "Epoch 60/100\n",
      "164/164 - 0s - loss: 0.2408 - accuracy: 0.8924\n",
      "Epoch 61/100\n",
      "164/164 - 0s - loss: 0.2400 - accuracy: 0.8928\n",
      "Epoch 62/100\n",
      "164/164 - 0s - loss: 0.2337 - accuracy: 0.8985\n",
      "Epoch 63/100\n",
      "164/164 - 0s - loss: 0.2364 - accuracy: 0.8962\n",
      "Epoch 64/100\n",
      "164/164 - 0s - loss: 0.2347 - accuracy: 0.8972\n",
      "Epoch 65/100\n",
      "164/164 - 0s - loss: 0.2349 - accuracy: 0.8981\n",
      "Epoch 66/100\n",
      "164/164 - 0s - loss: 0.2318 - accuracy: 0.8983\n",
      "Epoch 67/100\n",
      "164/164 - 0s - loss: 0.2311 - accuracy: 0.8972\n",
      "Epoch 68/100\n",
      "164/164 - 0s - loss: 0.2340 - accuracy: 0.8978\n",
      "Epoch 69/100\n",
      "164/164 - 0s - loss: 0.2296 - accuracy: 0.9010\n",
      "Epoch 70/100\n",
      "164/164 - 0s - loss: 0.2356 - accuracy: 0.8951\n",
      "Epoch 71/100\n",
      "164/164 - 0s - loss: 0.2288 - accuracy: 0.9006\n",
      "Epoch 72/100\n",
      "164/164 - 0s - loss: 0.2307 - accuracy: 0.8964\n",
      "Epoch 73/100\n",
      "164/164 - 0s - loss: 0.2315 - accuracy: 0.8957\n",
      "Epoch 74/100\n",
      "164/164 - 0s - loss: 0.2310 - accuracy: 0.8983\n",
      "Epoch 75/100\n",
      "164/164 - 0s - loss: 0.2281 - accuracy: 0.8993\n",
      "Epoch 76/100\n",
      "164/164 - 0s - loss: 0.2339 - accuracy: 0.8940\n",
      "Epoch 77/100\n",
      "164/164 - 0s - loss: 0.2268 - accuracy: 0.9001\n",
      "Epoch 78/100\n",
      "164/164 - 0s - loss: 0.2254 - accuracy: 0.9006\n",
      "Epoch 79/100\n",
      "164/164 - 0s - loss: 0.2262 - accuracy: 0.8985\n",
      "Epoch 80/100\n",
      "164/164 - 0s - loss: 0.2273 - accuracy: 0.9010\n",
      "Epoch 81/100\n",
      "164/164 - 0s - loss: 0.2204 - accuracy: 0.9058\n",
      "Epoch 82/100\n",
      "164/164 - 0s - loss: 0.2217 - accuracy: 0.9033\n",
      "Epoch 83/100\n",
      "164/164 - 0s - loss: 0.2277 - accuracy: 0.9025\n",
      "Epoch 84/100\n",
      "164/164 - 0s - loss: 0.2294 - accuracy: 0.8970\n",
      "Epoch 85/100\n",
      "164/164 - 0s - loss: 0.2204 - accuracy: 0.9035\n",
      "Epoch 86/100\n",
      "164/164 - 0s - loss: 0.2240 - accuracy: 0.8999\n",
      "Epoch 87/100\n",
      "164/164 - 0s - loss: 0.2242 - accuracy: 0.9022\n",
      "Epoch 88/100\n",
      "164/164 - 0s - loss: 0.2220 - accuracy: 0.9004\n",
      "Epoch 89/100\n",
      "164/164 - 0s - loss: 0.2248 - accuracy: 0.9012\n",
      "Epoch 90/100\n",
      "164/164 - 0s - loss: 0.2216 - accuracy: 0.9025\n",
      "Epoch 91/100\n",
      "164/164 - 0s - loss: 0.2197 - accuracy: 0.9037\n",
      "Epoch 92/100\n",
      "164/164 - 0s - loss: 0.2192 - accuracy: 0.9033\n",
      "Epoch 93/100\n",
      "164/164 - 0s - loss: 0.2226 - accuracy: 0.9025\n",
      "Epoch 94/100\n",
      "164/164 - 0s - loss: 0.2169 - accuracy: 0.9058\n",
      "Epoch 95/100\n",
      "164/164 - 0s - loss: 0.2154 - accuracy: 0.9056\n",
      "Epoch 96/100\n",
      "164/164 - 0s - loss: 0.2140 - accuracy: 0.9044\n",
      "Epoch 97/100\n",
      "164/164 - 0s - loss: 0.2175 - accuracy: 0.9062\n",
      "Epoch 98/100\n",
      "164/164 - 0s - loss: 0.2124 - accuracy: 0.9065\n",
      "Epoch 99/100\n",
      "164/164 - 0s - loss: 0.2143 - accuracy: 0.9039\n",
      "Epoch 100/100\n",
      "164/164 - 0s - loss: 0.2175 - accuracy: 0.9035\n"
     ]
    },
    {
     "data": {
      "text/plain": [
       "<tensorflow.python.keras.callbacks.History at 0x24b081b1f70>"
      ]
     },
     "execution_count": 15,
     "metadata": {},
     "output_type": "execute_result"
    }
   ],
   "source": [
    "from tensorflow.keras.models import Sequential\n",
    "from tensorflow.keras.layers import Dense\n",
    "\n",
    "# Create model and add layers\n",
    "model = Sequential()\n",
    "model.add(Dense(units=100, activation='relu', input_dim=40))\n",
    "model.add(Dense(units=100, activation='relu'))\n",
    "model.add(Dense(units=3, activation='softmax'))\n",
    "\n",
    "# Compile and fit the model\n",
    "model.compile(optimizer='adam',\n",
    "              loss='categorical_crossentropy',\n",
    "              metrics=['accuracy'])\n",
    "\n",
    "model.fit(\n",
    "    X_train_scaled,\n",
    "    y_train,\n",
    "    epochs=100,\n",
    "    shuffle=True,\n",
    "    verbose=2\n",
    ")"
   ]
  },
  {
   "cell_type": "code",
   "execution_count": 16,
   "metadata": {},
   "outputs": [
    {
     "name": "stdout",
     "output_type": "stream",
     "text": [
      "55/55 - 0s - loss: 0.2539 - accuracy: 0.8993\n",
      "Normal Neural Network - Loss: 0.2539297044277191, Accuracy: 0.8993135094642639\n"
     ]
    }
   ],
   "source": [
    "model_loss, model_accuracy = model.evaluate(\n",
    "    X_test_scaled, y_test, verbose=2)\n",
    "print(\n",
    "    f\"Normal Neural Network - Loss: {model_loss}, Accuracy: {model_accuracy}\")"
   ]
  },
  {
   "cell_type": "code",
   "execution_count": 17,
   "metadata": {},
   "outputs": [
    {
     "data": {
      "text/plain": [
       "array(['FALSE POSITIVE', 'CANDIDATE', 'FALSE POSITIVE', ..., 'CONFIRMED',\n",
       "       'CANDIDATE', 'CANDIDATE'], dtype=object)"
      ]
     },
     "execution_count": 17,
     "metadata": {},
     "output_type": "execute_result"
    }
   ],
   "source": [
    "encoded_predictions = np.argmax(model.predict(X_test_scaled), axis=-1)\n",
    "prediction_labels = label_encoder.inverse_transform(encoded_predictions)\n",
    "prediction_labels"
   ]
  },
  {
   "cell_type": "code",
   "execution_count": 18,
   "metadata": {},
   "outputs": [
    {
     "data": {
      "text/plain": [
       "array(['FALSE POSITIVE', 'CANDIDATE', 'FALSE POSITIVE', ..., 'CONFIRMED',\n",
       "       'CONFIRMED', 'CONFIRMED'], dtype=object)"
      ]
     },
     "execution_count": 18,
     "metadata": {},
     "output_type": "execute_result"
    }
   ],
   "source": [
    "encoded_ytest = np.argmax(y_test, axis=-1)\n",
    "decoded_ytest = label_encoder.inverse_transform(encoded_ytest)\n",
    "decoded_ytest"
   ]
  },
  {
   "cell_type": "code",
   "execution_count": 19,
   "metadata": {},
   "outputs": [
    {
     "name": "stdout",
     "output_type": "stream",
     "text": [
      "                precision    recall  f1-score   support\n",
      "\n",
      "     CANDIDATE       0.81      0.78      0.79       411\n",
      "     CONFIRMED       0.82      0.84      0.83       484\n",
      "FALSE POSITIVE       0.98      0.99      0.99       853\n",
      "\n",
      "      accuracy                           0.90      1748\n",
      "     macro avg       0.87      0.87      0.87      1748\n",
      "  weighted avg       0.90      0.90      0.90      1748\n",
      "\n"
     ]
    }
   ],
   "source": [
    "from sklearn.metrics import classification_report\n",
    "print(classification_report(decoded_ytest, prediction_labels))"
   ]
  },
  {
   "cell_type": "markdown",
   "metadata": {},
   "source": [
    "# Save the Model"
   ]
  },
  {
   "cell_type": "code",
   "execution_count": 20,
   "metadata": {},
   "outputs": [],
   "source": [
    "model.save(\"deep_learning_model.h5\")"
   ]
  },
  {
   "cell_type": "code",
   "execution_count": null,
   "metadata": {},
   "outputs": [],
   "source": []
  }
 ],
 "metadata": {
  "kernel_info": {
   "name": "dev"
  },
  "kernelspec": {
   "display_name": "Python [conda env:root] *",
   "language": "python",
   "name": "conda-root-py"
  },
  "language_info": {
   "codemirror_mode": {
    "name": "ipython",
    "version": 3
   },
   "file_extension": ".py",
   "mimetype": "text/x-python",
   "name": "python",
   "nbconvert_exporter": "python",
   "pygments_lexer": "ipython3",
   "version": "3.8.10"
  },
  "nteract": {
   "version": "0.12.3"
  }
 },
 "nbformat": 4,
 "nbformat_minor": 2
}
